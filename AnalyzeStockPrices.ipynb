{
 "cells": [
  {
   "cell_type": "markdown",
   "metadata": {},
   "source": [
    "# Analyze Stock Prices\n",
    "The goal of this notebook is to analyze prices of stocks, which we will accomplish by extracting stock prices from an online source, such as Yahoo Finance, and analyze and visualise it.\n",
    "\n",
    "We will try to address the following specific questions:\n",
    "\n",
    "  * How to download/extract prices from an online source?\n",
    "  * Historic change of a Stock's price over time?\n",
    "  * Calculate the daily return average of a stock.\n",
    "  * What was the correlation between daily returns of different stocks?\n",
    "  * Use Regression/ML models to predict future stock prices."
   ]
  }
 ],
 "metadata": {
  "kernelspec": {
   "display_name": "Python 2",
   "language": "python",
   "name": "python2"
  },
  "language_info": {
   "codemirror_mode": {
    "name": "ipython",
    "version": 2
   },
   "file_extension": ".py",
   "mimetype": "text/x-python",
   "name": "python",
   "nbconvert_exporter": "python",
   "pygments_lexer": "ipython2",
   "version": "2.7.13"
  }
 },
 "nbformat": 4,
 "nbformat_minor": 2
}
